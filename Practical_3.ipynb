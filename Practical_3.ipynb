{
  "nbformat": 4,
  "nbformat_minor": 0,
  "metadata": {
    "colab": {
      "provenance": [],
      "authorship_tag": "ABX9TyOXg2Vr7VP3F9CuzL5UiSNn",
      "include_colab_link": true
    },
    "kernelspec": {
      "name": "python3",
      "display_name": "Python 3"
    },
    "language_info": {
      "name": "python"
    }
  },
  "cells": [
    {
      "cell_type": "markdown",
      "metadata": {
        "id": "view-in-github",
        "colab_type": "text"
      },
      "source": [
        "<a href=\"https://colab.research.google.com/github/AkhilGangan/MSC_ALGO_530/blob/main/Practical_3.ipynb\" target=\"_parent\"><img src=\"https://colab.research.google.com/assets/colab-badge.svg\" alt=\"Open In Colab\"/></a>"
      ]
    },
    {
      "cell_type": "code",
      "execution_count": 36,
      "metadata": {
        "colab": {
          "base_uri": "https://localhost:8080/"
        },
        "id": "-grtAIZpMSKU",
        "outputId": "3bcfe001-9d42-43e8-8cd9-3bbf7177038e"
      },
      "outputs": [
        {
          "output_type": "stream",
          "name": "stdout",
          "text": [
            "2 24 45 66 75 90 170 802 "
          ]
        }
      ],
      "source": [
        "# Python program for implementation of Radix Sort\n",
        "# A function to do counting sort of arr[] according to\n",
        "# the digit represented by exp.\n",
        "\n",
        "def countingSort(arr, exp1):\n",
        "\n",
        "\tn = len(arr)\n",
        "\n",
        "\t# The output array elements that will have sorted arr\n",
        "\toutput = [0] * (n)\n",
        "\n",
        "\t# initialize count array as 0\n",
        "\tcount = [0] * (10)\n",
        "\n",
        "\t# Store count of occurrences in count[]\n",
        "\tfor i in range(0, n):\n",
        "\t\tindex = arr[i] // exp1\n",
        "\t\tcount[index % 10] += 1\n",
        "\n",
        "\t# Change count[i] so that count[i] now contains actual\n",
        "\t# position of this digit in output array\n",
        "\tfor i in range(1, 10):\n",
        "\t\tcount[i] += count[i - 1]\n",
        "\n",
        "\t# Build the output array\n",
        "\ti = n - 1\n",
        "\twhile i >= 0:\n",
        "\t\tindex = arr[i] // exp1\n",
        "\t\toutput[count[index % 10] - 1] = arr[i]\n",
        "\t\tcount[index % 10] -= 1\n",
        "\t\ti -= 1\n",
        "\n",
        "\t# Copying the output array to arr[],\n",
        "\t# so that arr now contains sorted numbers\n",
        "\ti = 0\n",
        "\tfor i in range(0, len(arr)):\n",
        "\t\tarr[i] = output[i]\n",
        "\n",
        "# Method to do Radix Sort\n",
        "def radixSort(arr):\n",
        "\n",
        "\t# Find the maximum number to know number of digits\n",
        "\tmax1 = max(arr)\n",
        "\n",
        "\t# Do counting sort for every digit. Note that instead\n",
        "\t# of passing digit number, exp is passed. exp is 10^i\n",
        "\t# where i is current digit number\n",
        "\texp = 1\n",
        "\twhile max1 / exp >= 1:\n",
        "\t\tcountingSort(arr, exp)\n",
        "\t\texp *= 10\n",
        "\n",
        "\n",
        "# Driver code\n",
        "arr = [170, 45, 75, 90, 802, 24, 2, 66]\n",
        "\n",
        "# Function Call\n",
        "radixSort(arr)\n",
        "\n",
        "for i in range(len(arr)):\n",
        "\tprint(arr[i],end=\" \")\n"
      ]
    }
  ]
}