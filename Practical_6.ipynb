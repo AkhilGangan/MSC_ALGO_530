{
  "nbformat": 4,
  "nbformat_minor": 0,
  "metadata": {
    "colab": {
      "provenance": [],
      "authorship_tag": "ABX9TyP7b6E/4JreiI7ZZujJVXvB",
      "include_colab_link": true
    },
    "kernelspec": {
      "name": "python3",
      "display_name": "Python 3"
    },
    "language_info": {
      "name": "python"
    }
  },
  "cells": [
    {
      "cell_type": "markdown",
      "metadata": {
        "id": "view-in-github",
        "colab_type": "text"
      },
      "source": [
        "<a href=\"https://colab.research.google.com/github/AkhilGangan/MSC_ALGO_530/blob/main/Practical_6.ipynb\" target=\"_parent\"><img src=\"https://colab.research.google.com/assets/colab-badge.svg\" alt=\"Open In Colab\"/></a>"
      ]
    },
    {
      "cell_type": "code",
      "execution_count": 23,
      "metadata": {
        "colab": {
          "base_uri": "https://localhost:8080/"
        },
        "id": "-grtAIZpMSKU",
        "outputId": "aa813df8-a1d3-4cc3-dde1-20de0b7c9d67"
      },
      "outputs": [
        {
          "output_type": "stream",
          "name": "stdout",
          "text": [
            "sorted character array is: ['e', 'e', 'e', 'e', 'f', 'g', 'g', 'k', 'k', 'o', 'r', 's', 's']\n"
          ]
        }
      ],
      "source": [
        "#Python program for counting sort \n",
        "  \n",
        "#the main fuction that sort the given string arr[]in\n",
        "#alphabetical order\n",
        "def countSort(arr):\n",
        "    #the output character array that will have sorted arr\n",
        "    output=[0 for i in range(256)]\n",
        "    #create a count array to store count of individual\n",
        "    count=[0 for i in range(256)]\n",
        "    #for storing the resulting answer since the\n",
        "    #string is immutable\n",
        "    ans=[\"\" for _ in arr]\n",
        "    #store count of each character\n",
        "    for i in arr:\n",
        "        count[ord(i)]+=1\n",
        "    #change count[i] so that count[i] now conatains actual\n",
        "    #position of this character in output array\n",
        "    for i in range(256):\n",
        "        count[i] += count[i-1]\n",
        "    #build the output character array\n",
        "    for i in range(len(arr)):\n",
        "        output[count[ord(arr[i])]-1]= arr[i]\n",
        "        count[ord(arr[i])]-=1\n",
        "    #copy the output array to arr,so that arr now\n",
        "    #contains sorted character\n",
        "    for i in range(len(arr)):\n",
        "        ans[i]=output[i]\n",
        "    return ans\n",
        "#deriver program to test above function\n",
        "arr=\"geeksforgeeks\"\n",
        "ans=countSort(arr)\n",
        "print('sorted character array is:',ans)"
      ]
    }
  ]
}