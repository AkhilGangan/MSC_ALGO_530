{
  "nbformat": 4,
  "nbformat_minor": 0,
  "metadata": {
    "colab": {
      "provenance": [],
      "authorship_tag": "ABX9TyMhTxixiKXUquPTC6sINrU5",
      "include_colab_link": true
    },
    "kernelspec": {
      "name": "python3",
      "display_name": "Python 3"
    },
    "language_info": {
      "name": "python"
    }
  },
  "cells": [
    {
      "cell_type": "markdown",
      "metadata": {
        "id": "view-in-github",
        "colab_type": "text"
      },
      "source": [
        "<a href=\"https://colab.research.google.com/github/AkhilGangan/MSC_ALGO_530/blob/main/Practical_5.ipynb\" target=\"_parent\"><img src=\"https://colab.research.google.com/assets/colab-badge.svg\" alt=\"Open In Colab\"/></a>"
      ]
    },
    {
      "cell_type": "code",
      "execution_count": 19,
      "metadata": {
        "colab": {
          "base_uri": "https://localhost:8080/"
        },
        "id": "-grtAIZpMSKU",
        "outputId": "4eb69ee3-e577-4fef-d938-a1753c6576c3"
      },
      "outputs": [
        {
          "output_type": "stream",
          "name": "stdout",
          "text": [
            "      0\t\n",
            "      5\t\n",
            "      8\t\n",
            "      9\t\n",
            " \n",
            "    INF\n",
            "      0\t\n",
            "      3\t\n",
            "      4\t\n",
            " \n",
            "    INF\n",
            "    INF\n",
            "      0\t\n",
            "      1\t\n",
            " \n",
            "    INF\n",
            "    INF\n",
            "    INF\n",
            "      0\t\n",
            " \n"
          ]
        }
      ],
      "source": [
        "# Python Program for Floyd Warshall Algorithm \n",
        "  \n",
        "V = 4\n",
        "INF=99999\n",
        "def floydWarshall(graph):\n",
        "      dist = list(map(lambda i :list( map(lambda j : j , i)) ,graph))\n",
        "      for k in range(V):\n",
        "            for i in range(V):\n",
        "                  for j in range(V):\n",
        "                        dist[i][j] = min(dist[i][j] ,dist[i][k]+ dist[k][j])\n",
        "      printSolution(dist)\n",
        "def printSolution(dist):\n",
        "      for i in range(V):\n",
        "            for j in range(V):\n",
        "                  if(dist[i][j] == INF):\n",
        "                        print('%7s' %(\"INF\"),)\n",
        "                  else:\n",
        "                        print('%7d\\t' %(dist[i][j]),)\n",
        "                  if j == V-1:\n",
        "                        print(\" \")\n",
        "graph = [[0,5,INF,10],\n",
        "         [INF,0,3,INF],\n",
        "         [INF,INF,0,1],\n",
        "         [INF,INF,INF,0]\n",
        "         ]\n",
        "floydWarshall(graph);\n"
      ]
    }
  ]
}